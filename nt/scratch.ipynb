{
 "cells": [
  {
   "cell_type": "code",
   "execution_count": 1,
   "id": "81baefe4-3267-42b0-9dba-874bce66a23f",
   "metadata": {},
   "outputs": [
    {
     "name": "stderr",
     "output_type": "stream",
     "text": [
      "/opt/conda/lib/python3.10/site-packages/tqdm/auto.py:21: TqdmWarning: IProgress not found. Please update jupyter and ipywidgets. See https://ipywidgets.readthedocs.io/en/stable/user_install.html\n",
      "  from .autonotebook import tqdm as notebook_tqdm\n"
     ]
    }
   ],
   "source": [
    "from transformers import BertTokenizer, BertModel, AlbertTokenizerFast, AlbertModel\n",
    "import torch\n",
    "import torch.nn.functional as F"
   ]
  },
  {
   "cell_type": "code",
   "execution_count": 2,
   "id": "82cb8f37-dd91-4d67-bcac-30a964f8b319",
   "metadata": {},
   "outputs": [],
   "source": [
    "def get_bert_tokenizer_and_model(tokenizer_path, model_path):\n",
    "    tokenizer = BertTokenizer.from_pretrained(tokenizer_path)\n",
    "    model = BertModel.from_pretrained(model_path)\n",
    "    return tokenizer, model\n",
    "\n",
    "def get_albert_tokenizer_and_model(tokenizer_path, model_path):\n",
    "    tokenizer = AlbertTokenizerFast.from_pretrained(tokenizer_path)\n",
    "    model = AlbertModel.from_pretrained(model_path)\n",
    "    return tokenizer, model"
   ]
  },
  {
   "cell_type": "code",
   "execution_count": 3,
   "id": "a5448dad-a3fe-4e2f-9b80-72227676a830",
   "metadata": {},
   "outputs": [],
   "source": [
    "def get_embedding(tokenizer, model, text):\n",
    "    inputs = tokenizer(text, return_tensors='pt', padding=True, truncation=True)\n",
    "\n",
    "    with torch.no_grad():  # Turn off gradient tracking for faster inference\n",
    "        outputs = model(**inputs)\n",
    "\n",
    "    # The embeddings are in `outputs.last_hidden_state`\n",
    "    # `outputs.last_hidden_state` is a tensor of shape [batch_size, sequence_length, hidden_size]\n",
    "    embeddings = outputs.last_hidden_state\n",
    "    \n",
    "    # If you want to get the embedding for the [CLS] token (which is often used as a sentence-level representation):\n",
    "    return embeddings#[:, 0, :]  # [CLS] token is the first token\n"
   ]
  },
  {
   "cell_type": "code",
   "execution_count": 4,
   "id": "446b8a15-2779-44dd-8d9e-f20eaa32587a",
   "metadata": {},
   "outputs": [],
   "source": [
    "math_albert_path = \"AnReu/albert-for-arqmath-3\"\n",
    "desc_bert_path = \"bert-base-uncased\""
   ]
  },
  {
   "cell_type": "code",
   "execution_count": 9,
   "id": "9f3b3cce-bea7-4a3c-a54b-c54fd573cefc",
   "metadata": {},
   "outputs": [
    {
     "name": "stderr",
     "output_type": "stream",
     "text": [
      "Some weights of the model checkpoint at AnReu/albert-for-arqmath-3 were not used when initializing AlbertModel: ['classifier.bias', 'classifier.weight']\n",
      "- This IS expected if you are initializing AlbertModel from the checkpoint of a model trained on another task or with another architecture (e.g. initializing a BertForSequenceClassification model from a BertForPreTraining model).\n",
      "- This IS NOT expected if you are initializing AlbertModel from the checkpoint of a model that you expect to be exactly identical (initializing a BertForSequenceClassification model from a BertForSequenceClassification model).\n"
     ]
    }
   ],
   "source": [
    "mtokenizer, mmodel = get_albert_tokenizer_and_model(math_albert_path, math_albert_path)\n",
    "dtokenizer, dmodel = get_bert_tokenizer_and_model(desc_bert_path, desc_bert_path)"
   ]
  },
  {
   "cell_type": "code",
   "execution_count": 10,
   "id": "7dd95562-2fd8-4682-9a74-6168ceb9a03e",
   "metadata": {},
   "outputs": [],
   "source": [
    "reactions = [\"[Blood-Lymph].CTLA4_mabB <-> Lymph_Node.CTLA4_mab\", \"[Blood-Lymph].CTLA4_mabB <-> Peripheral.CTLA4_mabP_leaky\"]"
   ]
  },
  {
   "cell_type": "code",
   "execution_count": 27,
   "id": "aba27248-ae84-441a-a593-6f8ffd17d536",
   "metadata": {},
   "outputs": [
    {
     "name": "stdout",
     "output_type": "stream",
     "text": [
      "['[', '▁blood', '-', '▁lymph', ']', '▁', '.', 'ct', 'la', '4', '_', '▁ma', 'bb', '<', '-', '>', '▁lymph', '_', '▁node', '.', 'ct', 'la', '4', '_', '▁mab'] ['[', 'blood', '-', 'l', '##ym', '##ph', ']', '.', 'ct', '##la', '##4', '_', 'mab', '##b', '<', '-', '>', 'l', '##ym', '##ph', '_', 'node', '.', 'ct', '##la', '##4', '_', 'mab']\n"
     ]
    }
   ],
   "source": [
    "print(mtokenizer.tokenize(reactions[0]), dtokenizer.tokenize(reactions[0]))"
   ]
  },
  {
   "cell_type": "code",
   "execution_count": 117,
   "id": "ad02479a-0da7-4a00-b081-256874721f63",
   "metadata": {},
   "outputs": [],
   "source": [
    "# Define the input string\n",
    "reactions_data = \"\"\"\n",
    "1 [Blood-Lymph].CTLA4_mabB <-> Lymph_Node.CTLA4_mab\n",
    "2 [Blood-Lymph].CTLA4_mabB <-> Peripheral.CTLA4_mabP_leaky\n",
    "3 [Blood-Lymph].CTLA4_mabB <-> Peripheral.CTLA4_mabP_tight\n",
    "4 [Blood-Lymph].CTLA4_mabB <-> Tumor.CTLA4_mabt\n",
    "5 [Blood-Lymph].CTLA4_mabB -> null\n",
    "6 [Blood-Lymph].Effector_T_TB -> [Blood-Lymph].Effector_T_TB + [Blood-Lymph].Effector_TB\n",
    "7 [Blood-Lymph].Effector_TB -> Liv_Spln_GI.EffT_GI_f_Vasc\n",
    "8 [Blood-Lymph].Effector_TB -> Liv_Spln_GI.EffT_Liver_f_Vasc\n",
    "9 [Blood-Lymph].Effector_TB -> Liv_Spln_GI.EffT_Spleen_f_Vasc\n",
    "10 [Blood-Lymph].Effector_TB -> Lymph_Node.EffT_LN_f_Vasc\n",
    "11 [Blood-Lymph].Effector_TB -> null\n",
    "12 [Blood-Lymph].Effector_TB -> Peripheral.EffT_P_f_Vasc\n",
    "13 [Blood-Lymph].Effector_TB -> Tumor.EffT_f_Vasc\n",
    "14 [Blood-Lymph].PD1_mabb <-> Lymph_Node.PD1_mab\n",
    "15 [Blood-Lymph].PD1_mabb <-> Peripheral.PD1_mabP_leaky\n",
    "16 [Blood-Lymph].PD1_mabb <-> Peripheral.PD1_mabP_tight\n",
    "17 [Blood-Lymph].PD1_mabb <-> Tumor.PD1_mabt\n",
    "18 [Blood-Lymph].PD1_mabb -> null\n",
    "19 [Blood-Lymph].PDL1_mabb <-> Lymph_Node.PDL1_mab\n",
    "20 [Blood-Lymph].PDL1_mabb <-> Peripheral.PDL1_mabP_leaky\n",
    "21 [Blood-Lymph].PDL1_mabb <-> Peripheral.PDL1_mabP_tight\n",
    "22 [Blood-Lymph].PDL1_mabb <-> Tumor.PDL1_mabt\n",
    "23 [Blood-Lymph].PDL1_mabb -> null\n",
    "24 [Blood-Lymph].PDL1_mabb -> null\n",
    "25 Liv_Spln_GI.EffT_GI_f_Vasc -> Liv_Spln_GI.EffT_Liver_f_Vasc\n",
    "26 Liv_Spln_GI.EffT_GI_f_Vasc -> null\n",
    "27 Liv_Spln_GI.EffT_Liver_AR_Vasc -> Liv_Spln_GI.EffT_LiverEx\n",
    "28 Liv_Spln_GI.EffT_Liver_AR_Vasc -> null\n",
    "29 Liv_Spln_GI.EffT_Liver_b_Vasc -> Liv_Spln_GI.EffT_Liver_AR_Vasc\n",
    "30 Liv_Spln_GI.EffT_Liver_b_Vasc -> Liv_Spln_GI.EffT_Liver_f_Vasc\n",
    "31 Liv_Spln_GI.EffT_Liver_b_Vasc -> null\n",
    "32 Liv_Spln_GI.EffT_Liver_f_Vasc -> Lungs.EffT_f_LungsVasc\n",
    "33 Liv_Spln_GI.EffT_Liver_f_Vasc -> null\n",
    "34 Liv_Spln_GI.EffT_LiverEx -> Lymph_Node.EffT_LN_ExRec\n",
    "35 Liv_Spln_GI.EffT_LiverEx -> null\n",
    "36 Liv_Spln_GI.EffT_Spleen_AR_Vasc -> Liv_Spln_GI.EffT_SpleenEx\n",
    "37 Liv_Spln_GI.EffT_Spleen_AR_Vasc -> null\n",
    "38 Liv_Spln_GI.EffT_Spleen_b_Vasc -> Liv_Spln_GI.EffT_Spleen_AR_Vasc\n",
    "39 Liv_Spln_GI.EffT_Spleen_b_Vasc -> Liv_Spln_GI.EffT_Spleen_f_Vasc\n",
    "40 Liv_Spln_GI.EffT_Spleen_b_Vasc -> null\n",
    "41 Liv_Spln_GI.EffT_Spleen_f_Vasc + Liv_Spln_GI.Spleen_Free_Sites -> Liv_Spln_GI.EffT_Spleen_b_Vasc + Liv_Spln_GI.Spleen_Free_Sites\n",
    "42 Liv_Spln_GI.EffT_Spleen_f_Vasc -> Liv_Spln_GI.EffT_Liver_f_Vasc\n",
    "43 Liv_Spln_GI.EffT_Spleen_f_Vasc -> null\n",
    "44 Liv_Spln_GI.EffT_SpleenEx -> Lymph_Node.EffT_LN_ExRec\n",
    "45 Liv_Spln_GI.EffT_SpleenEx -> null\n",
    "46 Liv_Spln_GI.Liver_Free_Sites + Liv_Spln_GI.EffT_Liver_f_Vasc -> Liv_Spln_GI.EffT_Liver_b_Vasc + Liv_Spln_GI.Liver_Free_Sites\n",
    "47 Lungs.EffT_AR_LungsVasc -> Lungs.EffT_LungsEx\n",
    "48 Lungs.EffT_AR_LungsVasc -> null\n",
    "49 Lungs.EffT_AR_LungsVasc -> null\n",
    "50 Lungs.EffT_f_LungsVasc + Lungs.Lung_Free_Sites -> Lungs.EffT_r_LungsVasc + Lungs.Lung_Free_Sites\n",
    "51 Lungs.EffT_f_LungsVasc -> [Blood-Lymph].Effector_TB\n",
    "52 Lungs.EffT_f_LungsVasc -> null\n",
    "53 Lungs.EffT_LungsEx -> Lymph_Node.EffT_LN_ExRec\n",
    "54 Lungs.EffT_LungsEx -> null\n",
    "55 Lungs.EffT_r_LungsVasc -> Lungs.EffT_AR_LungsVasc\n",
    "\"\"\"\n",
    "reaction_rate_data = \"\"\"1 Kpa_LNB*S_LNB*VL*f_LN_CTLA4*([Blood-Lymph].CTLA4_mabB/Vc_CTLA4-Lymph_Node.CTLA4_mab/VL)\n",
    "2 0.67*Q_L*[Blood-Lymph].CTLA4_mabB*(1-Sigma1_CTLA4)/Vc_CTLA4 -\n",
    "(Peripheral.CTLA4_mabP_leaky/(0.35*ISF*KP_CTLA4))*0.33*Q_L*(1-Sigma1_CTLA4)\n",
    "3 0.33*Q_L*[Blood-Lymph].CTLA4_mabB*(1-Sigma2_CTLA4)/Vc_CTLA4-\n",
    "(Peripheral.CTLA4_mabP_tight/(0.65*ISF*KP_CTLA4))*0.33*Q_L*(1-Sigma2_CTLA4)\n",
    "4 Kpa_TB*S_TB*Vt_avg_const*[Blood-Lymph].CTLA4_mabB/Vc_PD1-\n",
    "Kpa_TB*S_TB*Vt_avg_const*Tumor.CTLA4_mabt/(Vex_Tmr)\n",
    "5 Cl_CTLA4*[Blood-Lymph].CTLA4_mabB\n",
    "6 EffT_Migrate*[Blood-Lymph].Effector_T_TB\n",
    "7 QC_GI*[Blood-Lymph].Effector_TB/Vc_Teff\n",
    "8 (QC_Liver-QC_GI-QC_Spleen+LC_GI+LC_Spleen)*[Blood-Lymph].Effector_TB/Vc_Teff\n",
    "9 QC_Spleen * [Blood-Lymph].Effector_TB/Vc_Teff\n",
    "10 QC_LN*[Blood-Lymph].Effector_TB/Vc_Teff\n",
    "11 EffT_Turnover*[Blood-Lymph].Effector_TB\n",
    "12 QC_Periph*[Blood-Lymph].Effector_TB/Vc_Teff\n",
    "13 QC_Tmr*TCytokineHoming*[Blood-Lymph].Effector_TB/Vc_Teff\n",
    "14 Kpa_LNB*S_LNB*VL*f_LN_PD1*([Blood-Lymph].PD1_mabb/Vc_PD1-Lymph_Node.PD1_mab/VL)\n",
    "15 0.67*Q_L*PD1_mabb*(1-Sigma1_PD1)/Vc_PD1-(Peripheral.PD1_mabP_leaky/(0.35*ISF*KP_PD1))*0.33*Q_L*(1-\n",
    "Sigma1_PD1)\n",
    "16 0.33*Q_L*[Blood-Lymph].PD1_mabb*(1-Sigma2_PD1)/Vc_PD1-\n",
    "(Peripheral.PD1_mabP_tight/(0.65*ISF*KP_PD1))*0.33*Q_L*(1-Sigma2_PD1)\n",
    "17 Kpa_TB*S_TB*Vt_avg_const*[Blood-Lymph].PD1_mabb/Vc_PD1-\n",
    "Kpa_TB*S_TB*Vt_avg_const*Tumor.PD1_mabt/(Vex_Tmr)\n",
    "18 (Cl_PD1/Vc_PD1)*[Blood-Lymph].PD1_mabb\n",
    "19 Kpa_LNB*S_LNB*VL*f_LN_PD1*([Blood-Lymph].PDL1_mabb/Vc_PDL1-Lymph_Node.PDL1_mab/VL)\n",
    "20 0.67*Q_L*PDL1_mabb*(1-Sigma1_PDL1)/Vc_PDL1-(Peripheral.PDL1_mabP_leaky/(0.35*ISF*KP_PDL1))*0.33*Q_L*(1-\n",
    "Sigma1_PDL1)\n",
    "21 0.33*Q_L*[Blood-Lymph].PDL1_mabb*(1-Sigma2_PDL1)/Vc_PDL1-\n",
    "(Peripheral.PDL1_mabP_tight/(0.65*ISF*KP_PDL1))*0.33*Q_L*(1-Sigma2_PDL1)\n",
    "22 Kpa_TB*S_TB*Vt_avg_const*[Blood-Lymph].PDL1_mabb/Vc_PDL1-\n",
    "Kpa_TB*S_TB*Vt_avg_const*Tumor.PDL1_mabt/(Vex_Tmr)\n",
    "23 (Cl_PDL1/Vc_PDL1)*[Blood-Lymph].PDL1_mabb\n",
    "24 (Vm/Durvalumab_MW)*[Blood-Lymph].PDL1_mabb/(Km*Vc_PDL1/Durvalumab_MW+[Blood-Lymph].PDL1_mabb)\n",
    "25 (QC_GI - LC_GI)*Liv_Spln_GI.EffT_GI_f_Vasc/Vv_GI\n",
    "26 EffT_Turnover*Liv_Spln_GI.EffT_GI_f_Vasc\n",
    "27 J_Liver*Liv_Spln_GI.EffT_Liver_AR_Vasc\n",
    "28 EffT_Turnover*Liv_Spln_GI.EffT_Liver_AR_Vasc\n",
    "29 AR_Liver*[Liv_Spln_GI].EffT_Liver_b_Vasc\n",
    "30 kr_Periph*Liv_Spln_GI.EffT_Liver_b_Vasc\n",
    "31 EffT_Turnover*Liv_Spln_GI.EffT_Liver_b_Vasc\n",
    "32 (QC_Liver - LC_Liver)*Liv_Spln_GI.EffT_Liver_f_Vasc/Vv_Liver\n",
    "33 EffT_Turnover*Liv_Spln_GI.EffT_Liver_f_Vasc\n",
    "34 LC_Liver*Delta_Liver*Liv_Spln_GI.EffT_LiverEx/Vext_Liver\n",
    "35 EffT_Turnover*Liv_Spln_GI.EffT_LiverEx\n",
    "36 J_Spleen*Liv_Spln_GI.EffT_Spleen_AR_Vasc\n",
    "37 EffT_Turnover*Liv_Spln_GI.EffT_Spleen_AR_Vasc\n",
    "38 AR_Spleen*[Liv_Spln_GI].EffT_Spleen_b_Vasc\n",
    "39 kr_Periph*Liv_Spln_GI.EffT_Spleen_b_Vasc\n",
    "40 EffT_Turnover*Liv_Spln_GI.EffT_Spleen_b_Vasc\n",
    "41 kf_Spleen*Liv_Spln_GI.Spleen_Free_Sites*[Liv_Spln_GI].EffT_Spleen_f_Vasc/Vv_Spleen\n",
    "42 (QC_Spleen - LC_Spleen)*Liv_Spln_GI.EffT_Spleen_f_Vasc/Vv_Spleen\n",
    "43 EffT_Turnover*Liv_Spln_GI.EffT_Spleen_f_Vasc\n",
    "44 LC_Spleen*Delta_Spleen*Liv_Spln_GI.EffT_SpleenEx/Vext_Spleen\n",
    "45 EffT_Turnover*Liv_Spln_GI.EffT_SpleenEx\n",
    "46 kf_Liver*Liver_Free_Sites*[Liv_Spln_GI].EffT_Liver_f_Vasc/Vv_Liver\n",
    "47 J_Lungs*Lungs.EffT_AR_LungsVasc\n",
    "48 EffT_Turnover*Lungs.EffT_AR_LungsVasc\n",
    "49 E_Lungs*Lungs.EffT_AR_LungsVasc\n",
    "50 kf_Lungs*Lung_Free_Sites*Lungs.EffT_f_LungsVasc/Vv_Lungs\n",
    "51 (QC_Lungs - LC_Lungs)*Lungs.EffT_f_LungsVasc/Vv_Lungs\n",
    "52 EffT_Turnover*Lungs.EffT_f_LungsVasc\n",
    "53 LC_Lungs*Delta_Lungs*Lungs.EffT_LungsEx/Vext_Lungs\n",
    "54 EffT_Turnover*Lungs.EffT_LungsEx\n",
    "55 AR_Lungs*Lungs.EffT_r_LungsVasc\n",
    "\"\"\""
   ]
  },
  {
   "cell_type": "code",
   "execution_count": 126,
   "id": "9599bef3-1adb-4686-9a09-4bbf2dae91c1",
   "metadata": {},
   "outputs": [],
   "source": [
    "def parse_data(text):\n",
    "    lines = text.strip().split('\\n')\n",
    "    i = 1\n",
    "    data = {1:''}\n",
    "    for line in lines:\n",
    "        split_line = line.split(\" \",1)\n",
    "        if (len(split_line)==1) or (int(split_line[0]) != i):\n",
    "            data[i-1] = data[i-1] + line\n",
    "        else:\n",
    "            data[i] = split_line[1]\n",
    "            i+=1\n",
    "    return data"
   ]
  },
  {
   "cell_type": "code",
   "execution_count": 127,
   "id": "2ef0c8c3-21a9-4348-9cae-cd87a97be7ed",
   "metadata": {},
   "outputs": [],
   "source": [
    "reaction_rates = parse_data(reaction_rate_data)"
   ]
  },
  {
   "cell_type": "code",
   "execution_count": 129,
   "id": "b714936d-f7b1-4583-bbb6-63b880d9dc49",
   "metadata": {},
   "outputs": [],
   "source": [
    "reactions = parse_data(reactions_data)"
   ]
  },
  {
   "cell_type": "code",
   "execution_count": 135,
   "id": "f813ba9b-36a4-4d2b-9e3d-0b2bd40daf29",
   "metadata": {},
   "outputs": [],
   "source": [
    "embs =[get_embedding(mtokenizer, mmodel, reaction)[:,0,:] for reaction in reaction_rates.values()]"
   ]
  },
  {
   "cell_type": "code",
   "execution_count": 136,
   "id": "b6a3b171-4ebd-4d9c-933a-9829adfbffc9",
   "metadata": {},
   "outputs": [],
   "source": [
    "A = torch.zeros((len(embs), len(embs)))"
   ]
  },
  {
   "cell_type": "code",
   "execution_count": 137,
   "id": "5ad6574d-3e8c-4180-b858-a34b06508f61",
   "metadata": {},
   "outputs": [],
   "source": [
    "for i in range(len(embs)):\n",
    "    for j in range(len(embs)):\n",
    "        A[i,j] = F.cosine_similarity(embs[i], embs[j])"
   ]
  },
  {
   "cell_type": "code",
   "execution_count": 138,
   "id": "35fb57b5-362c-4999-9ca2-c411f48e9e02",
   "metadata": {},
   "outputs": [
    {
     "data": {
      "text/plain": [
       "<matplotlib.image.AxesImage at 0x7f6ba07f85b0>"
      ]
     },
     "execution_count": 138,
     "metadata": {},
     "output_type": "execute_result"
    },
    {
     "data": {
      "image/png": "[encoded data removed]",
      "text/plain": [
       "<Figure size 640x480 with 1 Axes>"
      ]
     },
     "metadata": {},
     "output_type": "display_data"
    }
   ],
   "source": [
    "import matplotlib.pyplot as plt\n",
    "plt.imshow(A)"
   ]
  },
  {
   "cell_type": "code",
   "execution_count": 78,
   "id": "ee47302e-c1a6-4dd7-85d7-47f022be097c",
   "metadata": {},
   "outputs": [
    {
     "data": {
      "image/png": "[encoded data removed]",
      "text/plain": [
       "<Figure size 640x480 with 1 Axes>"
      ]
     },
     "metadata": {},
     "output_type": "display_data"
    }
   ],
   "source": [
    "from sklearn.manifold import TSNE\n",
    "import matplotlib.pyplot as plt\n",
    "\n",
    "tsne = TSNE(n_components=2)\n",
    "reduced_embeddings = tsne.fit_transform(embeddings)\n",
    "\n",
    "plt.scatter(reduced_embeddings[:, 0], reduced_embeddings[:, 1])\n",
    "for i, (x_val, y_val) in enumerate(zip(reduced_embeddings[:, 0].squeeze(), reduced_embeddings[:, 1].squeeze())):\n",
    "    plt.text(x_val + 0.05, y_val + .05, str(i), fontsize=12, ha='right', color='red')\n",
    "plt.show()"
   ]
  },
  {
   "cell_type": "code",
   "execution_count": 79,
   "id": "1b69af49-d11a-4230-a596-751df0c6fcb8",
   "metadata": {},
   "outputs": [],
   "source": [
    "embeddings = torch.cat(embs)"
   ]
  },
  {
   "cell_type": "code",
   "execution_count": null,
   "id": "e6f3002c-5b32-4b94-99a0-aba8554a4b6d",
   "metadata": {},
   "outputs": [],
   "source": []
  }
 ],
 "metadata": {
  "kernelspec": {
   "display_name": "Python 3 (ipykernel)",
   "language": "python",
   "name": "python3"
  },
  "language_info": {
   "codemirror_mode": {
    "name": "ipython",
    "version": 3
   },
   "file_extension": ".py",
   "mimetype": "text/x-python",
   "name": "python",
   "nbconvert_exporter": "python",
   "pygments_lexer": "ipython3",
   "version": "3.10.11"
  }
 },
 "nbformat": 4,
 "nbformat_minor": 5
}
