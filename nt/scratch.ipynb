{
 "cells": [
  {
   "cell_type": "code",
   "execution_count": 1,
   "id": "81baefe4-3267-42b0-9dba-874bce66a23f",
   "metadata": {},
   "outputs": [
    {
     "name": "stderr",
     "output_type": "stream",
     "text": [
      "/opt/conda/lib/python3.10/site-packages/tqdm/auto.py:21: TqdmWarning: IProgress not found. Please update jupyter and ipywidgets. See https://ipywidgets.readthedocs.io/en/stable/user_install.html\n",
      "  from .autonotebook import tqdm as notebook_tqdm\n"
     ]
    }
   ],
   "source": [
    "from transformers import BertTokenizer, BertModel, AlbertTokenizerFast, AlbertModel\n",
    "import torch\n",
    "import torch.nn.functional as F"
   ]
  },
  {
   "cell_type": "code",
   "execution_count": 2,
   "id": "82cb8f37-dd91-4d67-bcac-30a964f8b319",
   "metadata": {},
   "outputs": [],
   "source": [
    "def get_bert_tokenizer_and_model(tokenizer_path, model_path):\n",
    "    tokenizer = BertTokenizer.from_pretrained(tokenizer_path)\n",
    "    model = BertModel.from_pretrained(model_path)\n",
    "    return tokenizer, model\n",
    "\n",
    "def get_albert_tokenizer_and_model(tokenizer_path, model_path):\n",
    "    tokenizer = AlbertTokenizerFast.from_pretrained(tokenizer_path)\n",
    "    model = AlbertModel.from_pretrained(model_path)\n",
    "    return tokenizer, model"
   ]
  },
  {
   "cell_type": "code",
   "execution_count": 3,
   "id": "a5448dad-a3fe-4e2f-9b80-72227676a830",
   "metadata": {},
   "outputs": [],
   "source": [
    "def get_embedding(tokenizer, model, text):\n",
    "    inputs = tokenizer(text, return_tensors='pt', padding=True, truncation=True)\n",
    "\n",
    "    with torch.no_grad():  # Turn off gradient tracking for faster inference\n",
    "        outputs = model(**inputs)\n",
    "\n",
    "    # The embeddings are in `outputs.last_hidden_state`\n",
    "    # `outputs.last_hidden_state` is a tensor of shape [batch_size, sequence_length, hidden_size]\n",
    "    embeddings = outputs.last_hidden_state\n",
    "    \n",
    "    # If you want to get the embedding for the [CLS] token (which is often used as a sentence-level representation):\n",
    "    return embeddings#[:, 0, :]  # [CLS] token is the first token\n"
   ]
  },
  {
   "cell_type": "code",
   "execution_count": 4,
   "id": "446b8a15-2779-44dd-8d9e-f20eaa32587a",
   "metadata": {},
   "outputs": [],
   "source": [
    "math_albert_path = \"AnReu/albert-for-arqmath-3\"\n",
    "desc_bert_path = \"bert-base-uncased\""
   ]
  },
  {
   "cell_type": "code",
   "execution_count": 5,
   "id": "9f3b3cce-bea7-4a3c-a54b-c54fd573cefc",
   "metadata": {},
   "outputs": [
    {
     "name": "stderr",
     "output_type": "stream",
     "text": [
      "Some weights of the model checkpoint at AnReu/albert-for-arqmath-3 were not used when initializing AlbertModel: ['classifier.bias', 'classifier.weight']\n",
      "- This IS expected if you are initializing AlbertModel from the checkpoint of a model trained on another task or with another architecture (e.g. initializing a BertForSequenceClassification model from a BertForPreTraining model).\n",
      "- This IS NOT expected if you are initializing AlbertModel from the checkpoint of a model that you expect to be exactly identical (initializing a BertForSequenceClassification model from a BertForSequenceClassification model).\n"
     ]
    }
   ],
   "source": [
    "mtokenizer, mmodel = get_albert_tokenizer_and_model(math_albert_path, math_albert_path)\n",
    "dtokenizer, dmodel = get_bert_tokenizer_and_model(desc_bert_path, desc_bert_path)"
   ]
  },
  {
   "cell_type": "code",
   "execution_count": 6,
   "id": "7dd95562-2fd8-4682-9a74-6168ceb9a03e",
   "metadata": {},
   "outputs": [],
   "source": [
    "reactions = [\"[Blood-Lymph].CTLA4_mabB <-> Lymph_Node.CTLA4_mab\", \"[Blood-Lymph].CTLA4_mabB <-> Peripheral.CTLA4_mabP_leaky\"]"
   ]
  },
  {
   "cell_type": "code",
   "execution_count": 7,
   "id": "8246a26f-f8cf-4d75-b67a-b390133feee8",
   "metadata": {},
   "outputs": [],
   "source": [
    "emb1 = get_embedding(dtokenizer, dmodel, reactions[0])[:,0,:]\n",
    "emb2 = get_embedding(dtokenizer, dmodel, reactions[1])[:,0,:]"
   ]
  },
  {
   "cell_type": "code",
   "execution_count": 8,
   "id": "d98568b6-87df-46ea-b335-a97e9e6aec5a",
   "metadata": {},
   "outputs": [
    {
     "data": {
      "text/plain": [
       "tensor([0.9652])"
      ]
     },
     "execution_count": 8,
     "metadata": {},
     "output_type": "execute_result"
    }
   ],
   "source": [
    "F.cosine_similarity(emb1,emb2)"
   ]
  },
  {
   "cell_type": "code",
   "execution_count": null,
   "id": "ad02479a-0da7-4a00-b081-256874721f63",
   "metadata": {},
   "outputs": [],
   "source": []
  }
 ],
 "metadata": {
  "kernelspec": {
   "display_name": "Python 3 (ipykernel)",
   "language": "python",
   "name": "python3"
  },
  "language_info": {
   "codemirror_mode": {
    "name": "ipython",
    "version": 3
   },
   "file_extension": ".py",
   "mimetype": "text/x-python",
   "name": "python",
   "nbconvert_exporter": "python",
   "pygments_lexer": "ipython3",
   "version": "3.10.11"
  }
 },
 "nbformat": 4,
 "nbformat_minor": 5
}
