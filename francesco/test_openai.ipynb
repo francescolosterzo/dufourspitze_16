{
 "cells": [
  {
   "cell_type": "code",
   "execution_count": 21,
   "id": "de43615e-ab47-443e-958e-f119c65ce260",
   "metadata": {},
   "outputs": [],
   "source": [
    "import openai\n",
    "import json"
   ]
  },
  {
   "cell_type": "code",
   "execution_count": 7,
   "id": "ce4b5b42-e010-4d6a-82d9-758ac042181e",
   "metadata": {},
   "outputs": [],
   "source": [
    "openai.api_key = ''"
   ]
  },
  {
   "cell_type": "code",
   "execution_count": 8,
   "id": "7fbced83-9f2a-4867-8b64-ab38e2d9af3a",
   "metadata": {},
   "outputs": [],
   "source": [
    "text_data = \"\"\"\n",
    "1 [Blood-Lymph].CTLA4_mabB <-> Lymph_Node.CTLA4_mab\n",
    "2 [Blood-Lymph].CTLA4_mabB <-> Peripheral.CTLA4_mabP_leaky\n",
    "3 [Blood-Lymph].CTLA4_mabB <-> Peripheral.CTLA4_mabP_tight\n",
    "4 [Blood-Lymph].CTLA4_mabB <-> Tumor.CTLA4_mabt\n",
    "5 [Blood-Lymph].CTLA4_mabB -> null\n",
    "6 [Blood-Lymph].Effector_T_TB -> [Blood-Lymph].Effector_T_TB + [Blood-Lymph].Effector_TB\n",
    "7 [Blood-Lymph].Effector_TB -> Liv_Spln_GI.EffT_GI_f_Vasc\n",
    "8 [Blood-Lymph].Effector_TB -> Liv_Spln_GI.EffT_Liver_f_Vasc\n",
    "9 [Blood-Lymph].Effector_TB -> Liv_Spln_GI.EffT_Spleen_f_Vasc\n",
    "10 [Blood-Lymph].Effector_TB -> Lymph_Node.EffT_LN_f_Vasc\n",
    "11 [Blood-Lymph].Effector_TB -> null\n",
    "12 [Blood-Lymph].Effector_TB -> Peripheral.EffT_P_f_Vasc\n",
    "13 [Blood-Lymph].Effector_TB -> Tumor.EffT_f_Vasc\n",
    "14 [Blood-Lymph].PD1_mabb <-> Lymph_Node.PD1_mab\n",
    "15 [Blood-Lymph].PD1_mabb <-> Peripheral.PD1_mabP_leaky\n",
    "16 [Blood-Lymph].PD1_mabb <-> Peripheral.PD1_mabP_tight\n",
    "17 [Blood-Lymph].PD1_mabb <-> Tumor.PD1_mabt\n",
    "18 [Blood-Lymph].PD1_mabb -> null\n",
    "19 [Blood-Lymph].PDL1_mabb <-> Lymph_Node.PDL1_mab\n",
    "20 [Blood-Lymph].PDL1_mabb <-> Peripheral.PDL1_mabP_leaky\n",
    "21 [Blood-Lymph].PDL1_mabb <-> Peripheral.PDL1_mabP_tight\n",
    "22 [Blood-Lymph].PDL1_mabb <-> Tumor.PDL1_mabt\n",
    "23 [Blood-Lymph].PDL1_mabb -> null\n",
    "24 [Blood-Lymph].PDL1_mabb -> null\n",
    "25 Liv_Spln_GI.EffT_GI_f_Vasc -> Liv_Spln_GI.EffT_Liver_f_Vasc\n",
    "\"\"\""
   ]
  },
  {
   "cell_type": "code",
   "execution_count": 26,
   "id": "d09fe368-cad7-4da0-82e9-493edbb2518c",
   "metadata": {},
   "outputs": [],
   "source": [
    "user_prompt = \"\"\"\n",
    "Convert the following table data into JSON format.\n",
    "The format should be as simple as possible, e.g. \"column name\": \"column content\" for each column for each entry.\n",
    "Please show the whole content of the json object!!!\n",
    "For this input:\n",
    "1 [Blood-Lymph].CTLA4_mabB <-> Lymph_Node.CTLA4_mab\n",
    "2 [Blood-Lymph].CTLA4_mabB <-> Peripheral.CTLA4_mabP_leaky\n",
    "3 [Blood-Lymph].CTLA4_mabB <-> Peripheral.CTLA4_mabP_tight\n",
    "I want this output:\n",
    "[\n",
    "    {\"reaction number\":1, \"reaction\":\"[Blood-Lymph].CTLA4_mabB <-> Lymph_Node.CTLA4_mab\"},\n",
    "    {\"reaction number\":2, \"reaction\":\"[Blood-Lymph].CTLA4_mabB <-> Peripheral.CTLA4_mabP_leaky\"},\n",
    "    {\"reaction number\":3, \"reaction\":\"[Blood-Lymph].CTLA4_mabB <-> Peripheral.CTLA4_mabP_tight\"},\n",
    "]\n",
    "Here is the text:\n",
    "\"\"\" + text_data"
   ]
  },
  {
   "cell_type": "code",
   "execution_count": 28,
   "id": "d3d2c282-de97-48b7-971b-b49841a488e0",
   "metadata": {},
   "outputs": [
    {
     "name": "stdout",
     "output_type": "stream",
     "text": [
      "Formatted JSON Output:\n",
      "Here is your table data formatted into JSON:\n",
      "\n",
      "```json\n",
      "[\n",
      "  {\"reaction number\":1, \"reaction\":\"[Blood-Lymph].CTLA4_mabB <-> Lymph_Node.CTLA4_mab\"},\n",
      "  {\"reaction number\":2, \"reaction\":\"[Blood-Lymph].CTLA4_mabB <-> Peripheral.CTLA4_mabP_leaky\"},\n",
      "  {\"reaction number\":3, \"reaction\":\"[Blood-Lymph].CTLA4_mabB <-> Peripheral.CTLA4_mabP_tight\"},\n",
      "  {\"reaction number\":4, \"reaction\":\"[Blood-Lymph].CTLA4_mabB <-> Tumor.CTLA4_mabt\"},\n",
      "  {\"reaction number\":5, \"reaction\":\"[Blood-Lymph].CTLA4_mabB -> null\"},\n",
      "  {\"reaction number\":6, \"reaction\":\"[Blood-Lymph].Effector_T_TB -> [Blood-Lymph].Effector_T_TB + [Blood-Lymph].Effector_TB\"},\n",
      "  {\"reaction number\":7, \"reaction\":\"[Blood-Lymph].Effector_TB -> Liv_Spln_GI.EffT_GI_f_Vasc\"},\n",
      "  {\"reaction number\":8, \"reaction\":\"[Blood-Lymph].Effector_TB -> Liv_Spln_GI.EffT_Liver_f_Vasc\"},\n",
      "  {\"reaction number\":9, \"reaction\":\"[Blood-Lymph].Effector_TB -> Liv_Spln_GI.EffT_Spleen_f_Vasc\"},\n",
      "  {\"reaction number\":10, \"reaction\":\"[Blood-Lymph].Effector_TB -> Lymph_Node.EffT_LN_f_Vasc\"},\n",
      "  {\"reaction number\":11, \"reaction\":\"[Blood-Lymph].Effector_TB -> null\"},\n",
      "  {\"reaction number\":12, \"reaction\":\"[Blood-Lymph].Effector_TB -> Peripheral.EffT_P_f_Vasc\"},\n",
      "  {\"reaction number\":13, \"reaction\":\"[Blood-Lymph].Effector_TB -> Tumor.EffT_f_Vasc\"},\n",
      "  {\"reaction number\":14, \"reaction\":\"[Blood-Lymph].PD1_mabb <-> Lymph_Node.PD1_mab\"},\n",
      "  {\"reaction number\":15, \"reaction\":\"[Blood-Lymph].PD1_mabb <-> Peripheral.PD1_mabP_leaky\"},\n",
      "  {\"reaction number\":16, \"reaction\":\"[Blood-Lymph].PD1_mabb <-> Peripheral.PD1_mabP_tight\"},\n",
      "  {\"reaction number\":17, \"reaction\":\"[Blood-Lymph].PD1_mabb <-> Tumor.PD1_mabt\"},\n",
      "  {\"reaction number\":18, \"reaction\":\"[Blood-Lymph].PD1_mabb -> null\"},\n",
      "  {\"reaction number\":19, \"reaction\":\"[Blood-Lymph].PDL1_mabb <-> Lymph_Node.PDL1_mab\"},\n",
      "  {\"reaction number\":20, \"reaction\":\"[Blood-Lymph].PDL1_mabb <-> Peripheral.PDL1_mabP_leaky\"},\n",
      "  {\"reaction number\":21, \"reaction\":\"[Blood-Lymph].PDL1_mabb <-> Peripheral.PDL1_mabP_tight\"},\n",
      "  {\"reaction number\":22, \"reaction\":\"[Blood-Lymph].PDL1_mabb <-> Tumor.PDL1_mabt\"},\n",
      "  {\"reaction number\":23, \"reaction\":\"[Blood-Lymph].PDL1_mabb -> null\"},\n",
      "  {\"reaction number\":24, \"reaction\":\"[Blood-Lymph].PDL1_mabb -> null\"},\n",
      "  {\"reaction number\":25, \"reaction\":\"Liv_Spln_GI.EffT_GI_f_Vasc -> Liv_Spln_GI.EffT_Liver_f_Vasc\"}\n",
      "]\n",
      "```\n"
     ]
    }
   ],
   "source": [
    "system_prompt = \"You are an expert at formatting text into JSON.\"\n",
    "\n",
    "# Call OpenAI API with GPT-4 model\n",
    "response = openai.ChatCompletion.create(\n",
    "  model=\"gpt-4\",\n",
    "  messages=[\n",
    "    #{\"role\": \"system\", \"content\": system_prompt},\n",
    "    {\"role\": \"user\", \"content\": user_prompt}\n",
    "  ]\n",
    ")\n",
    "\n",
    "# Extract the model's output\n",
    "json_output = response['choices'][0]['message']['content']\n",
    "\n",
    "# Display the JSON output\n",
    "print(\"Formatted JSON Output:\")\n",
    "print(json_output)"
   ]
  },
  {
   "cell_type": "code",
   "execution_count": 11,
   "id": "225d6029-18ce-41c6-8c3a-aee7c1935202",
   "metadata": {},
   "outputs": [
    {
     "data": {
      "text/plain": [
       "openai.openai_object.OpenAIObject"
      ]
     },
     "execution_count": 11,
     "metadata": {},
     "output_type": "execute_result"
    }
   ],
   "source": [
    "type(response)"
   ]
  },
  {
   "cell_type": "code",
   "execution_count": 12,
   "id": "ad4ee3bc-4a95-4874-8b90-d1d9bd221946",
   "metadata": {},
   "outputs": [
    {
     "data": {
      "text/plain": [
       "dict_keys(['id', 'object', 'created', 'model', 'choices', 'usage', 'system_fingerprint'])"
      ]
     },
     "execution_count": 12,
     "metadata": {},
     "output_type": "execute_result"
    }
   ],
   "source": [
    "response.keys()"
   ]
  },
  {
   "cell_type": "code",
   "execution_count": 14,
   "id": "4efe36a2-7380-4f2e-903b-c6c95bd05c16",
   "metadata": {},
   "outputs": [
    {
     "data": {
      "text/plain": [
       "openai.openai_object.OpenAIObject"
      ]
     },
     "execution_count": 14,
     "metadata": {},
     "output_type": "execute_result"
    }
   ],
   "source": [
    "type(response['choices'][0])"
   ]
  },
  {
   "cell_type": "code",
   "execution_count": 15,
   "id": "6d8a43a4-3252-4e79-ade4-666f72c72e34",
   "metadata": {},
   "outputs": [
    {
     "data": {
      "text/plain": [
       "openai.openai_object.OpenAIObject"
      ]
     },
     "execution_count": 15,
     "metadata": {},
     "output_type": "execute_result"
    }
   ],
   "source": [
    "type(response['choices'][0]['message'])"
   ]
  },
  {
   "cell_type": "code",
   "execution_count": 29,
   "id": "5e3fdf9c-aa22-4f0c-8597-107ec435e064",
   "metadata": {},
   "outputs": [
    {
     "data": {
      "text/plain": [
       "'\\n[\\n  {\"reaction number\":1, \"reaction\":\"[Blood-Lymph].CTLA4_mabB <-> Lymph_Node.CTLA4_mab\"},\\n  {\"reaction number\":2, \"reaction\":\"[Blood-Lymph].CTLA4_mabB <-> Peripheral.CTLA4_mabP_leaky\"},\\n  {\"reaction number\":3, \"reaction\":\"[Blood-Lymph].CTLA4_mabB <-> Peripheral.CTLA4_mabP_tight\"},\\n  {\"reaction number\":4, \"reaction\":\"[Blood-Lymph].CTLA4_mabB <-> Tumor.CTLA4_mabt\"},\\n  {\"reaction number\":5, \"reaction\":\"[Blood-Lymph].CTLA4_mabB -> null\"},\\n  {\"reaction number\":6, \"reaction\":\"[Blood-Lymph].Effector_T_TB -> [Blood-Lymph].Effector_T_TB + [Blood-Lymph].Effector_TB\"},\\n  {\"reaction number\":7, \"reaction\":\"[Blood-Lymph].Effector_TB -> Liv_Spln_GI.EffT_GI_f_Vasc\"},\\n  {\"reaction number\":8, \"reaction\":\"[Blood-Lymph].Effector_TB -> Liv_Spln_GI.EffT_Liver_f_Vasc\"},\\n  {\"reaction number\":9, \"reaction\":\"[Blood-Lymph].Effector_TB -> Liv_Spln_GI.EffT_Spleen_f_Vasc\"},\\n  {\"reaction number\":10, \"reaction\":\"[Blood-Lymph].Effector_TB -> Lymph_Node.EffT_LN_f_Vasc\"},\\n  {\"reaction number\":11, \"reaction\":\"[Blood-Lymph].Effector_TB -> null\"},\\n  {\"reaction number\":12, \"reaction\":\"[Blood-Lymph].Effector_TB -> Peripheral.EffT_P_f_Vasc\"},\\n  {\"reaction number\":13, \"reaction\":\"[Blood-Lymph].Effector_TB -> Tumor.EffT_f_Vasc\"},\\n  {\"reaction number\":14, \"reaction\":\"[Blood-Lymph].PD1_mabb <-> Lymph_Node.PD1_mab\"},\\n  {\"reaction number\":15, \"reaction\":\"[Blood-Lymph].PD1_mabb <-> Peripheral.PD1_mabP_leaky\"},\\n  {\"reaction number\":16, \"reaction\":\"[Blood-Lymph].PD1_mabb <-> Peripheral.PD1_mabP_tight\"},\\n  {\"reaction number\":17, \"reaction\":\"[Blood-Lymph].PD1_mabb <-> Tumor.PD1_mabt\"},\\n  {\"reaction number\":18, \"reaction\":\"[Blood-Lymph].PD1_mabb -> null\"},\\n  {\"reaction number\":19, \"reaction\":\"[Blood-Lymph].PDL1_mabb <-> Lymph_Node.PDL1_mab\"},\\n  {\"reaction number\":20, \"reaction\":\"[Blood-Lymph].PDL1_mabb <-> Peripheral.PDL1_mabP_leaky\"},\\n  {\"reaction number\":21, \"reaction\":\"[Blood-Lymph].PDL1_mabb <-> Peripheral.PDL1_mabP_tight\"},\\n  {\"reaction number\":22, \"reaction\":\"[Blood-Lymph].PDL1_mabb <-> Tumor.PDL1_mabt\"},\\n  {\"reaction number\":23, \"reaction\":\"[Blood-Lymph].PDL1_mabb -> null\"},\\n  {\"reaction number\":24, \"reaction\":\"[Blood-Lymph].PDL1_mabb -> null\"},\\n  {\"reaction number\":25, \"reaction\":\"Liv_Spln_GI.EffT_GI_f_Vasc -> Liv_Spln_GI.EffT_Liver_f_Vasc\"}\\n]\\n'"
      ]
     },
     "execution_count": 29,
     "metadata": {},
     "output_type": "execute_result"
    }
   ],
   "source": [
    "s = response['choices'][0]['message']['content']\n",
    "ss = s.split('```')[1].replace('json','')\n",
    "ss"
   ]
  },
  {
   "cell_type": "code",
   "execution_count": 30,
   "id": "09316c1d-ed9b-490e-920d-424c93e8d735",
   "metadata": {},
   "outputs": [
    {
     "data": {
      "text/plain": [
       "[{'reaction number': 1,\n",
       "  'reaction': '[Blood-Lymph].CTLA4_mabB <-> Lymph_Node.CTLA4_mab'},\n",
       " {'reaction number': 2,\n",
       "  'reaction': '[Blood-Lymph].CTLA4_mabB <-> Peripheral.CTLA4_mabP_leaky'},\n",
       " {'reaction number': 3,\n",
       "  'reaction': '[Blood-Lymph].CTLA4_mabB <-> Peripheral.CTLA4_mabP_tight'},\n",
       " {'reaction number': 4,\n",
       "  'reaction': '[Blood-Lymph].CTLA4_mabB <-> Tumor.CTLA4_mabt'},\n",
       " {'reaction number': 5, 'reaction': '[Blood-Lymph].CTLA4_mabB -> null'},\n",
       " {'reaction number': 6,\n",
       "  'reaction': '[Blood-Lymph].Effector_T_TB -> [Blood-Lymph].Effector_T_TB + [Blood-Lymph].Effector_TB'},\n",
       " {'reaction number': 7,\n",
       "  'reaction': '[Blood-Lymph].Effector_TB -> Liv_Spln_GI.EffT_GI_f_Vasc'},\n",
       " {'reaction number': 8,\n",
       "  'reaction': '[Blood-Lymph].Effector_TB -> Liv_Spln_GI.EffT_Liver_f_Vasc'},\n",
       " {'reaction number': 9,\n",
       "  'reaction': '[Blood-Lymph].Effector_TB -> Liv_Spln_GI.EffT_Spleen_f_Vasc'},\n",
       " {'reaction number': 10,\n",
       "  'reaction': '[Blood-Lymph].Effector_TB -> Lymph_Node.EffT_LN_f_Vasc'},\n",
       " {'reaction number': 11, 'reaction': '[Blood-Lymph].Effector_TB -> null'},\n",
       " {'reaction number': 12,\n",
       "  'reaction': '[Blood-Lymph].Effector_TB -> Peripheral.EffT_P_f_Vasc'},\n",
       " {'reaction number': 13,\n",
       "  'reaction': '[Blood-Lymph].Effector_TB -> Tumor.EffT_f_Vasc'},\n",
       " {'reaction number': 14,\n",
       "  'reaction': '[Blood-Lymph].PD1_mabb <-> Lymph_Node.PD1_mab'},\n",
       " {'reaction number': 15,\n",
       "  'reaction': '[Blood-Lymph].PD1_mabb <-> Peripheral.PD1_mabP_leaky'},\n",
       " {'reaction number': 16,\n",
       "  'reaction': '[Blood-Lymph].PD1_mabb <-> Peripheral.PD1_mabP_tight'},\n",
       " {'reaction number': 17,\n",
       "  'reaction': '[Blood-Lymph].PD1_mabb <-> Tumor.PD1_mabt'},\n",
       " {'reaction number': 18, 'reaction': '[Blood-Lymph].PD1_mabb -> null'},\n",
       " {'reaction number': 19,\n",
       "  'reaction': '[Blood-Lymph].PDL1_mabb <-> Lymph_Node.PDL1_mab'},\n",
       " {'reaction number': 20,\n",
       "  'reaction': '[Blood-Lymph].PDL1_mabb <-> Peripheral.PDL1_mabP_leaky'},\n",
       " {'reaction number': 21,\n",
       "  'reaction': '[Blood-Lymph].PDL1_mabb <-> Peripheral.PDL1_mabP_tight'},\n",
       " {'reaction number': 22,\n",
       "  'reaction': '[Blood-Lymph].PDL1_mabb <-> Tumor.PDL1_mabt'},\n",
       " {'reaction number': 23, 'reaction': '[Blood-Lymph].PDL1_mabb -> null'},\n",
       " {'reaction number': 24, 'reaction': '[Blood-Lymph].PDL1_mabb -> null'},\n",
       " {'reaction number': 25,\n",
       "  'reaction': 'Liv_Spln_GI.EffT_GI_f_Vasc -> Liv_Spln_GI.EffT_Liver_f_Vasc'}]"
      ]
     },
     "execution_count": 30,
     "metadata": {},
     "output_type": "execute_result"
    }
   ],
   "source": [
    "json.loads(ss)"
   ]
  },
  {
   "cell_type": "code",
   "execution_count": 31,
   "id": "2b63332d-cd3b-4ef8-be03-0cb026439382",
   "metadata": {},
   "outputs": [],
   "source": [
    "import ndjson"
   ]
  },
  {
   "cell_type": "code",
   "execution_count": 38,
   "id": "999397e5-9fed-4cf6-ab08-67eb3d1ab6bf",
   "metadata": {},
   "outputs": [],
   "source": [
    "with open('data_from_table_1.ndjson','r') as f:\n",
    "    data = ndjson.load(f)"
   ]
  },
  {
   "cell_type": "code",
   "execution_count": 39,
   "id": "288f2b19-17b5-48c7-91ac-0becf16c7c50",
   "metadata": {},
   "outputs": [
    {
     "data": {
      "text/plain": [
       "['{\"reaction number\":434, \"reaction\":\"Tumor.Teff_EngTregT -> Tumor.CD80_TeffT + Tumor.Teff_EngTregT\"}',\n",
       " '{\"reaction number\":435, \"reaction\":\"Tumor.Teff_EngTregT -> Tumor.PD1_TeffT + Tumor.Teff_EngTregT\"}',\n",
       " '{\"reaction number\":436, \"reaction\":\"Tumor.Teff_EngTregT -> Tumor.PDL1_TeffT + Tumor.Teff_EngTregT\"}',\n",
       " '{\"reaction number\":437, \"reaction\":\"Tumor.TregT + Tumor.Effector_TT_TregT -> Tumor.TregT_Teff + Tumor.Effector_TT_TregT + Tumor.TregT\"}',\n",
       " '{\"reaction number\":438, \"reaction\":\"Tumor.TregT_EngAPC -> Tumor.CTLA4_TregT + Tumor.TregT_EngAPC\"}']"
      ]
     },
     "execution_count": 39,
     "metadata": {},
     "output_type": "execute_result"
    }
   ],
   "source": [
    "data"
   ]
  },
  {
   "cell_type": "code",
   "execution_count": 40,
   "id": "0a576662-9d0c-4e89-b066-1b5990cc5229",
   "metadata": {},
   "outputs": [
    {
     "data": {
      "text/plain": [
       "5"
      ]
     },
     "execution_count": 40,
     "metadata": {},
     "output_type": "execute_result"
    }
   ],
   "source": [
    "len([ json.loads(i) for i in data ] )"
   ]
  },
  {
   "cell_type": "code",
   "execution_count": null,
   "id": "36b2d34c-cdb2-4c48-9e1e-5e7cfa44826b",
   "metadata": {},
   "outputs": [],
   "source": []
  }
 ],
 "metadata": {
  "kernelspec": {
   "display_name": "Python 3 (ipykernel)",
   "language": "python",
   "name": "python3"
  },
  "language_info": {
   "codemirror_mode": {
    "name": "ipython",
    "version": 3
   },
   "file_extension": ".py",
   "mimetype": "text/x-python",
   "name": "python",
   "nbconvert_exporter": "python",
   "pygments_lexer": "ipython3",
   "version": "3.10.11"
  }
 },
 "nbformat": 4,
 "nbformat_minor": 5
}
