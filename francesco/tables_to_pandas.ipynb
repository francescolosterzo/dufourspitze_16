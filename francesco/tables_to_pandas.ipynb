{
 "cells": [
  {
   "cell_type": "code",
   "execution_count": 1,
   "id": "f3477062-47ae-4626-9669-ff45f99c729b",
   "metadata": {},
   "outputs": [],
   "source": [
    "import pandas as pd\n",
    "import json\n",
    "import ndjson\n",
    "import itertools\n",
    "import re"
   ]
  },
  {
   "cell_type": "code",
   "execution_count": 2,
   "id": "b6348e6c-175d-4b11-a8a3-da4b31d676ed",
   "metadata": {},
   "outputs": [],
   "source": [
    "input_files = [\n",
    "    '/home/jovyan/work/dufourspitze_16/data/data_from_table_1.ndjson',\n",
    "    '/home/jovyan/work/dufourspitze_16/data/data_from_table_2.ndjson',\n",
    "    '/home/jovyan/work/dufourspitze_16/data/data_from_table_3.ndjson'\n",
    "]"
   ]
  },
  {
   "cell_type": "code",
   "execution_count": 3,
   "id": "d801b089-7f74-4eeb-98cd-b3915754f90d",
   "metadata": {},
   "outputs": [],
   "source": [
    "def load_ndjson(file_name):\n",
    "\n",
    "    with open(file_name, 'r') as f:\n",
    "        data = ndjson.load(f)\n",
    "    data = [json.loads(i) for i in data]\n",
    "\n",
    "    return pd.DataFrame(data)\n",
    "\n",
    "def load_data(file_name):\n",
    "\n",
    "    df = load_ndjson(file_name)\n",
    "\n",
    "    ### remove duplicates, if any\n",
    "    df = df.drop_duplicates(subset='reaction number', keep='first')\n",
    "\n",
    "    ## we don't care about repetitions in other columns\n",
    "    # duplicates = {}\n",
    "    # for col in df.columns:\n",
    "    #     duplicates[col] = df[col].duplicated().any()\n",
    "    #     if duplicates[col]:\n",
    "    #         print('duplicates found in column:', col)\n",
    "\n",
    "    return df.set_index('reaction number')"
   ]
  },
  {
   "cell_type": "code",
   "execution_count": 4,
   "id": "661722e0-3cdc-41a8-9721-39584e11e055",
   "metadata": {},
   "outputs": [
    {
     "name": "stdout",
     "output_type": "stream",
     "text": [
      "processing file /home/jovyan/work/dufourspitze_16/data/data_from_table_1.ndjson\n",
      "processing file /home/jovyan/work/dufourspitze_16/data/data_from_table_2.ndjson\n",
      "processing file /home/jovyan/work/dufourspitze_16/data/data_from_table_3.ndjson\n"
     ]
    }
   ],
   "source": [
    "dfs_list = []\n",
    "\n",
    "for ifile in input_files:\n",
    "\n",
    "    print('processing file', ifile)\n",
    "\n",
    "    df = load_data(ifile)\n",
    "\n",
    "    dfs_list.append(df)"
   ]
  },
  {
   "cell_type": "code",
   "execution_count": 5,
   "id": "97699fdc-4093-4cfa-bf6b-7be137d65e93",
   "metadata": {},
   "outputs": [
    {
     "data": {
      "text/html": [
       "<div>\n",
       "<style scoped>\n",
       "    .dataframe tbody tr th:only-of-type {\n",
       "        vertical-align: middle;\n",
       "    }\n",
       "\n",
       "    .dataframe tbody tr th {\n",
       "        vertical-align: top;\n",
       "    }\n",
       "\n",
       "    .dataframe thead th {\n",
       "        text-align: right;\n",
       "    }\n",
       "</style>\n",
       "<table border=\"1\" class=\"dataframe\">\n",
       "  <thead>\n",
       "    <tr style=\"text-align: right;\">\n",
       "      <th></th>\n",
       "      <th>reaction number</th>\n",
       "      <th>reaction</th>\n",
       "      <th>reaction rate</th>\n",
       "      <th>description</th>\n",
       "    </tr>\n",
       "  </thead>\n",
       "  <tbody>\n",
       "    <tr>\n",
       "      <th>0</th>\n",
       "      <td>1</td>\n",
       "      <td>[Blood-Lymph].CTLA4_mabB &lt;-&gt; Lymph_Node.CTLA4_mab</td>\n",
       "      <td>Kpa_LNB*S_LNB*VL*f_LN_CTLA4*([Blood-Lymph].CTL...</td>\n",
       "      <td>Distribution of Anti-CTLA-4 mAb between the ce...</td>\n",
       "    </tr>\n",
       "    <tr>\n",
       "      <th>1</th>\n",
       "      <td>2</td>\n",
       "      <td>[Blood-Lymph].CTLA4_mabB &lt;-&gt; Peripheral.CTLA4_...</td>\n",
       "      <td>0.67*Q_L*[Blood-Lymph].CTLA4_mabB*(1-Sigma1_CT...</td>\n",
       "      <td>Distribution of Anti-CTLA-4 mAb between the ce...</td>\n",
       "    </tr>\n",
       "    <tr>\n",
       "      <th>2</th>\n",
       "      <td>3</td>\n",
       "      <td>[Blood-Lymph].CTLA4_mabB &lt;-&gt; Peripheral.CTLA4_...</td>\n",
       "      <td>0.33*Q_L*[Blood-Lymph].CTLA4_mabB*(1-Sigma2_CT...</td>\n",
       "      <td>Distribution of Anti-CTLA-4 mAb between the ce...</td>\n",
       "    </tr>\n",
       "    <tr>\n",
       "      <th>3</th>\n",
       "      <td>4</td>\n",
       "      <td>[Blood-Lymph].CTLA4_mabB &lt;-&gt; Tumor.CTLA4_mabt</td>\n",
       "      <td>Kpa_TB*S_TB*Vt_avg_const*[Blood-Lymph].CTLA4_m...</td>\n",
       "      <td>Distribution of Anti-CTLA-4 mAb between the ce...</td>\n",
       "    </tr>\n",
       "    <tr>\n",
       "      <th>4</th>\n",
       "      <td>5</td>\n",
       "      <td>[Blood-Lymph].CTLA4_mabB -&gt; null</td>\n",
       "      <td>Cl_CTLA4*[Blood-Lymph].CTLA4_mabB</td>\n",
       "      <td>Clearance of Anti-CTLA-4 mAb from the central ...</td>\n",
       "    </tr>\n",
       "  </tbody>\n",
       "</table>\n",
       "</div>"
      ],
      "text/plain": [
       "   reaction number                                           reaction  \\\n",
       "0                1  [Blood-Lymph].CTLA4_mabB <-> Lymph_Node.CTLA4_mab   \n",
       "1                2  [Blood-Lymph].CTLA4_mabB <-> Peripheral.CTLA4_...   \n",
       "2                3  [Blood-Lymph].CTLA4_mabB <-> Peripheral.CTLA4_...   \n",
       "3                4      [Blood-Lymph].CTLA4_mabB <-> Tumor.CTLA4_mabt   \n",
       "4                5                   [Blood-Lymph].CTLA4_mabB -> null   \n",
       "\n",
       "                                       reaction rate  \\\n",
       "0  Kpa_LNB*S_LNB*VL*f_LN_CTLA4*([Blood-Lymph].CTL...   \n",
       "1  0.67*Q_L*[Blood-Lymph].CTLA4_mabB*(1-Sigma1_CT...   \n",
       "2  0.33*Q_L*[Blood-Lymph].CTLA4_mabB*(1-Sigma2_CT...   \n",
       "3  Kpa_TB*S_TB*Vt_avg_const*[Blood-Lymph].CTLA4_m...   \n",
       "4                  Cl_CTLA4*[Blood-Lymph].CTLA4_mabB   \n",
       "\n",
       "                                         description  \n",
       "0  Distribution of Anti-CTLA-4 mAb between the ce...  \n",
       "1  Distribution of Anti-CTLA-4 mAb between the ce...  \n",
       "2  Distribution of Anti-CTLA-4 mAb between the ce...  \n",
       "3  Distribution of Anti-CTLA-4 mAb between the ce...  \n",
       "4  Clearance of Anti-CTLA-4 mAb from the central ...  "
      ]
     },
     "execution_count": 5,
     "metadata": {},
     "output_type": "execute_result"
    }
   ],
   "source": [
    "df = pd.concat(dfs_list, axis=1).reset_index(drop=False)\n",
    "df.head()"
   ]
  },
  {
   "cell_type": "markdown",
   "id": "bd04caaa-8d4b-4ad2-b312-08f168d6c97a",
   "metadata": {},
   "source": [
    "Now simplify the reaction by replacing elements with literals"
   ]
  },
  {
   "cell_type": "code",
   "execution_count": 6,
   "id": "6438b7e9-41fc-4cd6-85bc-6ec3c9827363",
   "metadata": {},
   "outputs": [],
   "source": [
    "df4 = load_ndjson('/home/jovyan/work/dufourspitze_16/data/data_from_table_4.ndjson')"
   ]
  },
  {
   "cell_type": "code",
   "execution_count": 7,
   "id": "221256e3-1428-4c8b-9aa8-9d0be648c2e7",
   "metadata": {},
   "outputs": [],
   "source": [
    "### compartment_location\n",
    "comp_mapping_dict = {\n",
    "    'Blood-Lymph':'alpha',\n",
    "    'Blood–Lymph':'alpha', ## different hyphen\n",
    "    'Lungs':'beta',\n",
    "    'Liv_Spln_GI':'gamma',\n",
    "    'Lymph_Node':'delta',\n",
    "    'Peripheral':'epsilon',\n",
    "    'Tumor':'zeta'\n",
    "}\n",
    "\n",
    "df4['compartment_location_mapped'] = df4['compartment_location'].map(comp_mapping_dict)"
   ]
  },
  {
   "cell_type": "code",
   "execution_count": 8,
   "id": "09371df9-b94c-44a8-8619-e783724c4f69",
   "metadata": {},
   "outputs": [],
   "source": [
    "### variable_name\n",
    "var_unique = df4['variable_name'].sort_values().unique()\n",
    "literals = [''.join(pair) for pair in itertools.product('ABCDEFGHIJKLMNOPQRSTUVWXYZ', repeat=2)]\n",
    "var_mapping_dict = dict(zip(var_unique, literals))"
   ]
  },
  {
   "cell_type": "code",
   "execution_count": 9,
   "id": "5ed43298-f258-4304-a705-bcc6bf0182a8",
   "metadata": {},
   "outputs": [],
   "source": [
    "def replace_terms_in_equation(row, comp_dict, var_dict):\n",
    "    r = row['reaction']\n",
    "    \n",
    "    # Replace full matches for compartment names\n",
    "    for ck, cv in comp_dict.items():\n",
    "        # Use regex to match the exact term (compartment) within square brackets\n",
    "        r = re.sub(rf'\\[{re.escape(ck)}\\]', cv, r)\n",
    "        # Match compartment names without square brackets\n",
    "        r = re.sub(rf'\\b{re.escape(ck)}\\b', cv, r)\n",
    "\n",
    "\n",
    "    # Replace full matches for variables\n",
    "    for vk, vv in var_dict.items():\n",
    "        # Use regex to match the exact variable name as a standalone word\n",
    "        r = re.sub(rf'\\b{re.escape(vk)}\\b', vv, r)\n",
    "\n",
    "    return r\n"
   ]
  },
  {
   "cell_type": "code",
   "execution_count": 10,
   "id": "b5d7ea19-18db-435a-9791-bda2e6ba9ca4",
   "metadata": {},
   "outputs": [
    {
     "data": {
      "text/html": [
       "<div>\n",
       "<style scoped>\n",
       "    .dataframe tbody tr th:only-of-type {\n",
       "        vertical-align: middle;\n",
       "    }\n",
       "\n",
       "    .dataframe tbody tr th {\n",
       "        vertical-align: top;\n",
       "    }\n",
       "\n",
       "    .dataframe thead th {\n",
       "        text-align: right;\n",
       "    }\n",
       "</style>\n",
       "<table border=\"1\" class=\"dataframe\">\n",
       "  <thead>\n",
       "    <tr style=\"text-align: right;\">\n",
       "      <th></th>\n",
       "      <th>reaction number</th>\n",
       "      <th>reaction</th>\n",
       "      <th>reaction rate</th>\n",
       "      <th>description</th>\n",
       "      <th>simplified_reaction</th>\n",
       "    </tr>\n",
       "  </thead>\n",
       "  <tbody>\n",
       "    <tr>\n",
       "      <th>0</th>\n",
       "      <td>1</td>\n",
       "      <td>[Blood-Lymph].CTLA4_mabB &lt;-&gt; Lymph_Node.CTLA4_mab</td>\n",
       "      <td>Kpa_LNB*S_LNB*VL*f_LN_CTLA4*([Blood-Lymph].CTL...</td>\n",
       "      <td>Distribution of Anti-CTLA-4 mAb between the ce...</td>\n",
       "      <td>alpha.CE &lt;-&gt; delta.CD</td>\n",
       "    </tr>\n",
       "    <tr>\n",
       "      <th>1</th>\n",
       "      <td>2</td>\n",
       "      <td>[Blood-Lymph].CTLA4_mabB &lt;-&gt; Peripheral.CTLA4_...</td>\n",
       "      <td>0.67*Q_L*[Blood-Lymph].CTLA4_mabB*(1-Sigma1_CT...</td>\n",
       "      <td>Distribution of Anti-CTLA-4 mAb between the ce...</td>\n",
       "      <td>alpha.CE &lt;-&gt; epsilon.CG</td>\n",
       "    </tr>\n",
       "    <tr>\n",
       "      <th>2</th>\n",
       "      <td>3</td>\n",
       "      <td>[Blood-Lymph].CTLA4_mabB &lt;-&gt; Peripheral.CTLA4_...</td>\n",
       "      <td>0.33*Q_L*[Blood-Lymph].CTLA4_mabB*(1-Sigma2_CT...</td>\n",
       "      <td>Distribution of Anti-CTLA-4 mAb between the ce...</td>\n",
       "      <td>alpha.CE &lt;-&gt; epsilon.CH</td>\n",
       "    </tr>\n",
       "    <tr>\n",
       "      <th>3</th>\n",
       "      <td>4</td>\n",
       "      <td>[Blood-Lymph].CTLA4_mabB &lt;-&gt; Tumor.CTLA4_mabt</td>\n",
       "      <td>Kpa_TB*S_TB*Vt_avg_const*[Blood-Lymph].CTLA4_m...</td>\n",
       "      <td>Distribution of Anti-CTLA-4 mAb between the ce...</td>\n",
       "      <td>alpha.CE &lt;-&gt; zeta.CJ</td>\n",
       "    </tr>\n",
       "    <tr>\n",
       "      <th>4</th>\n",
       "      <td>5</td>\n",
       "      <td>[Blood-Lymph].CTLA4_mabB -&gt; null</td>\n",
       "      <td>Cl_CTLA4*[Blood-Lymph].CTLA4_mabB</td>\n",
       "      <td>Clearance of Anti-CTLA-4 mAb from the central ...</td>\n",
       "      <td>alpha.CE -&gt; null</td>\n",
       "    </tr>\n",
       "  </tbody>\n",
       "</table>\n",
       "</div>"
      ],
      "text/plain": [
       "   reaction number                                           reaction  \\\n",
       "0                1  [Blood-Lymph].CTLA4_mabB <-> Lymph_Node.CTLA4_mab   \n",
       "1                2  [Blood-Lymph].CTLA4_mabB <-> Peripheral.CTLA4_...   \n",
       "2                3  [Blood-Lymph].CTLA4_mabB <-> Peripheral.CTLA4_...   \n",
       "3                4      [Blood-Lymph].CTLA4_mabB <-> Tumor.CTLA4_mabt   \n",
       "4                5                   [Blood-Lymph].CTLA4_mabB -> null   \n",
       "\n",
       "                                       reaction rate  \\\n",
       "0  Kpa_LNB*S_LNB*VL*f_LN_CTLA4*([Blood-Lymph].CTL...   \n",
       "1  0.67*Q_L*[Blood-Lymph].CTLA4_mabB*(1-Sigma1_CT...   \n",
       "2  0.33*Q_L*[Blood-Lymph].CTLA4_mabB*(1-Sigma2_CT...   \n",
       "3  Kpa_TB*S_TB*Vt_avg_const*[Blood-Lymph].CTLA4_m...   \n",
       "4                  Cl_CTLA4*[Blood-Lymph].CTLA4_mabB   \n",
       "\n",
       "                                         description      simplified_reaction  \n",
       "0  Distribution of Anti-CTLA-4 mAb between the ce...    alpha.CE <-> delta.CD  \n",
       "1  Distribution of Anti-CTLA-4 mAb between the ce...  alpha.CE <-> epsilon.CG  \n",
       "2  Distribution of Anti-CTLA-4 mAb between the ce...  alpha.CE <-> epsilon.CH  \n",
       "3  Distribution of Anti-CTLA-4 mAb between the ce...     alpha.CE <-> zeta.CJ  \n",
       "4  Clearance of Anti-CTLA-4 mAb from the central ...         alpha.CE -> null  "
      ]
     },
     "execution_count": 10,
     "metadata": {},
     "output_type": "execute_result"
    }
   ],
   "source": [
    "df['simplified_reaction'] = df.apply(lambda r: replace_terms_in_equation(r, comp_mapping_dict, var_mapping_dict), axis=1)\n",
    "df.head()"
   ]
  },
  {
   "cell_type": "markdown",
   "id": "b7061385-6104-4b74-bf2c-ce32d8e82257",
   "metadata": {},
   "source": [
    "Save outputs"
   ]
  },
  {
   "cell_type": "code",
   "execution_count": 11,
   "id": "5e9402ca-5537-4e99-8e9a-c5013daac28f",
   "metadata": {},
   "outputs": [],
   "source": [
    "df.to_csv('/home/jovyan/work/dufourspitze_16/data/final_table.txt', index=False)\n",
    "\n",
    "with open('/home/jovyan/work/dufourspitze_16/data/mappings.json','w') as f:\n",
    "    json.dump(comp_mapping_dict,f)\n",
    "    json.dump(var_mapping_dict,f)"
   ]
  },
  {
   "cell_type": "code",
   "execution_count": null,
   "id": "98048d24-8735-43e0-b620-8eae9f2e0257",
   "metadata": {},
   "outputs": [],
   "source": []
  }
 ],
 "metadata": {
  "kernelspec": {
   "display_name": "Python 3 (ipykernel)",
   "language": "python",
   "name": "python3"
  },
  "language_info": {
   "codemirror_mode": {
    "name": "ipython",
    "version": 3
   },
   "file_extension": ".py",
   "mimetype": "text/x-python",
   "name": "python",
   "nbconvert_exporter": "python",
   "pygments_lexer": "ipython3",
   "version": "3.10.11"
  }
 },
 "nbformat": 4,
 "nbformat_minor": 5
}
