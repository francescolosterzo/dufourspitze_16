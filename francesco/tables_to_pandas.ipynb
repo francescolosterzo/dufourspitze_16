{
 "cells": [
  {
   "cell_type": "code",
   "execution_count": 1,
   "id": "f3477062-47ae-4626-9669-ff45f99c729b",
   "metadata": {},
   "outputs": [],
   "source": [
    "import pandas as pd\n",
    "import json\n",
    "import ndjson"
   ]
  },
  {
   "cell_type": "code",
   "execution_count": 2,
   "id": "b6348e6c-175d-4b11-a8a3-da4b31d676ed",
   "metadata": {},
   "outputs": [],
   "source": [
    "input_files = [\n",
    "    '/home/jovyan/work/dufourspitze_16/data/ex_data_from_table_1.ndjson',\n",
    "    '/home/jovyan/work/dufourspitze_16/data/ex_data_from_table_2.ndjson',\n",
    "    '/home/jovyan/work/dufourspitze_16/data/ex_data_from_table_3.ndjson'\n",
    "]"
   ]
  },
  {
   "cell_type": "code",
   "execution_count": 3,
   "id": "d801b089-7f74-4eeb-98cd-b3915754f90d",
   "metadata": {},
   "outputs": [],
   "source": [
    "def load_data(file_name):\n",
    "\n",
    "    ### open the file\n",
    "    with open(file_name,'r') as f:\n",
    "        data = ndjson.load(f)\n",
    "\n",
    "    ### convert the list of strings to json objects\n",
    "    data = [json.loads(i) for i in data]\n",
    "\n",
    "    ### turn it into a dataframe\n",
    "    df = pd.DataFrame(data)\n",
    "\n",
    "    duplicates = {}\n",
    "    for col in df.columns:\n",
    "        duplicates[col] = df[col].duplicated().any()\n",
    "        if len(duplicates[col]) > 0:\n",
    "            print('duplicates found in column:', col)\n",
    "\n",
    "    ### remove duplicates, if any\n",
    "    df = df.drop_duplicates(subset='reaction number', keep='first')\n",
    "\n",
    "    return df.set_index('reaction number')"
   ]
  },
  {
   "cell_type": "code",
   "execution_count": 5,
   "id": "661722e0-3cdc-41a8-9721-39584e11e055",
   "metadata": {},
   "outputs": [
    {
     "name": "stdout",
     "output_type": "stream",
     "text": [
      "processing file /home/jovyan/work/dufourspitze_16/data/ex_data_from_table_1.ndjson\n",
      "processing file /home/jovyan/work/dufourspitze_16/data/ex_data_from_table_2.ndjson\n",
      "processing file /home/jovyan/work/dufourspitze_16/data/ex_data_from_table_3.ndjson\n"
     ]
    }
   ],
   "source": [
    "dfs_list = []\n",
    "\n",
    "for ifile in input_files:\n",
    "\n",
    "    print('processing file', ifile)\n",
    "\n",
    "    df = load_data(ifile)\n",
    "\n",
    "    dfs_list.append(df)"
   ]
  },
  {
   "cell_type": "code",
   "execution_count": 10,
   "id": "97699fdc-4093-4cfa-bf6b-7be137d65e93",
   "metadata": {},
   "outputs": [
    {
     "data": {
      "text/html": [
       "<div>\n",
       "<style scoped>\n",
       "    .dataframe tbody tr th:only-of-type {\n",
       "        vertical-align: middle;\n",
       "    }\n",
       "\n",
       "    .dataframe tbody tr th {\n",
       "        vertical-align: top;\n",
       "    }\n",
       "\n",
       "    .dataframe thead th {\n",
       "        text-align: right;\n",
       "    }\n",
       "</style>\n",
       "<table border=\"1\" class=\"dataframe\">\n",
       "  <thead>\n",
       "    <tr style=\"text-align: right;\">\n",
       "      <th></th>\n",
       "      <th>reaction</th>\n",
       "      <th>reaction rate</th>\n",
       "      <th>description</th>\n",
       "    </tr>\n",
       "    <tr>\n",
       "      <th>reaction number</th>\n",
       "      <th></th>\n",
       "      <th></th>\n",
       "      <th></th>\n",
       "    </tr>\n",
       "  </thead>\n",
       "  <tbody>\n",
       "    <tr>\n",
       "      <th>429</th>\n",
       "      <td>Tumor.TC1 -&gt; Tumor.T_Recover_Can_Dead</td>\n",
       "      <td>NaN</td>\n",
       "      <td>NaN</td>\n",
       "    </tr>\n",
       "    <tr>\n",
       "      <th>430</th>\n",
       "      <td>Tumor.TC2 + Tumor.Effector_TT -&gt; Tumor.TC2</td>\n",
       "      <td>NaN</td>\n",
       "      <td>NaN</td>\n",
       "    </tr>\n",
       "    <tr>\n",
       "      <th>431</th>\n",
       "      <td>Tumor.Teff_EngMDSC -&gt; Tumor.Teff_EngMDSC + Tum...</td>\n",
       "      <td>NaN</td>\n",
       "      <td>NaN</td>\n",
       "    </tr>\n",
       "    <tr>\n",
       "      <th>432</th>\n",
       "      <td>Tumor.Teff_EngMDSC -&gt; Tumor.Teff_EngMDSC + Tum...</td>\n",
       "      <td>NaN</td>\n",
       "      <td>NaN</td>\n",
       "    </tr>\n",
       "    <tr>\n",
       "      <th>433</th>\n",
       "      <td>Tumor.Teff_EngMDSC -&gt; Tumor.Teff_EngMDSC + Tum...</td>\n",
       "      <td>NaN</td>\n",
       "      <td>NaN</td>\n",
       "    </tr>\n",
       "  </tbody>\n",
       "</table>\n",
       "</div>"
      ],
      "text/plain": [
       "                                                          reaction  \\\n",
       "reaction number                                                      \n",
       "429                          Tumor.TC1 -> Tumor.T_Recover_Can_Dead   \n",
       "430                     Tumor.TC2 + Tumor.Effector_TT -> Tumor.TC2   \n",
       "431              Tumor.Teff_EngMDSC -> Tumor.Teff_EngMDSC + Tum...   \n",
       "432              Tumor.Teff_EngMDSC -> Tumor.Teff_EngMDSC + Tum...   \n",
       "433              Tumor.Teff_EngMDSC -> Tumor.Teff_EngMDSC + Tum...   \n",
       "\n",
       "                reaction rate description  \n",
       "reaction number                            \n",
       "429                       NaN         NaN  \n",
       "430                       NaN         NaN  \n",
       "431                       NaN         NaN  \n",
       "432                       NaN         NaN  \n",
       "433                       NaN         NaN  "
      ]
     },
     "execution_count": 10,
     "metadata": {},
     "output_type": "execute_result"
    }
   ],
   "source": [
    "df = pd.concat(dfs_list, axis=1)\n",
    "df.head()"
   ]
  },
  {
   "cell_type": "code",
   "execution_count": 11,
   "id": "b2856798-85da-42a4-a6f6-a8dee25a2756",
   "metadata": {},
   "outputs": [
    {
     "data": {
      "text/html": [
       "<div>\n",
       "<style scoped>\n",
       "    .dataframe tbody tr th:only-of-type {\n",
       "        vertical-align: middle;\n",
       "    }\n",
       "\n",
       "    .dataframe tbody tr th {\n",
       "        vertical-align: top;\n",
       "    }\n",
       "\n",
       "    .dataframe thead th {\n",
       "        text-align: right;\n",
       "    }\n",
       "</style>\n",
       "<table border=\"1\" class=\"dataframe\">\n",
       "  <thead>\n",
       "    <tr style=\"text-align: right;\">\n",
       "      <th></th>\n",
       "      <th>reaction</th>\n",
       "    </tr>\n",
       "    <tr>\n",
       "      <th>reaction number</th>\n",
       "      <th></th>\n",
       "    </tr>\n",
       "  </thead>\n",
       "  <tbody>\n",
       "    <tr>\n",
       "      <th>1</th>\n",
       "      <td>[Blood-Lymph].CTLA4_mabB &lt;-&gt; Lymph_Node.CTLA4_mab</td>\n",
       "    </tr>\n",
       "    <tr>\n",
       "      <th>2</th>\n",
       "      <td>[Blood-Lymph].CTLA4_mabB &lt;-&gt; Peripheral.CTLA4_...</td>\n",
       "    </tr>\n",
       "    <tr>\n",
       "      <th>3</th>\n",
       "      <td>[Blood-Lymph].CTLA4_mabB &lt;-&gt; Peripheral.CTLA4_...</td>\n",
       "    </tr>\n",
       "    <tr>\n",
       "      <th>4</th>\n",
       "      <td>[Blood-Lymph].CTLA4_mabB &lt;-&gt; Tumor.CTLA4_mabt</td>\n",
       "    </tr>\n",
       "    <tr>\n",
       "      <th>5</th>\n",
       "      <td>[Blood-Lymph].CTLA4_mabB -&gt; null</td>\n",
       "    </tr>\n",
       "  </tbody>\n",
       "</table>\n",
       "</div>"
      ],
      "text/plain": [
       "                                                          reaction\n",
       "reaction number                                                   \n",
       "1                [Blood-Lymph].CTLA4_mabB <-> Lymph_Node.CTLA4_mab\n",
       "2                [Blood-Lymph].CTLA4_mabB <-> Peripheral.CTLA4_...\n",
       "3                [Blood-Lymph].CTLA4_mabB <-> Peripheral.CTLA4_...\n",
       "4                    [Blood-Lymph].CTLA4_mabB <-> Tumor.CTLA4_mabt\n",
       "5                                 [Blood-Lymph].CTLA4_mabB -> null"
      ]
     },
     "execution_count": 11,
     "metadata": {},
     "output_type": "execute_result"
    }
   ],
   "source": [
    "df = load_data('/home/jovyan/work/dufourspitze_16/data/data_from_table_1.ndjson')\n",
    "df.head()"
   ]
  },
  {
   "cell_type": "code",
   "execution_count": 13,
   "id": "ac1b1c10-8bc0-408f-87fc-8b5080d3093b",
   "metadata": {},
   "outputs": [],
   "source": [
    "df = df.reset_index(drop=False)"
   ]
  },
  {
   "cell_type": "code",
   "execution_count": 14,
   "id": "90afa4da-19c5-47d5-ae1c-ba434919546d",
   "metadata": {},
   "outputs": [
    {
     "data": {
      "text/plain": [
       "(460, 448)"
      ]
     },
     "execution_count": 14,
     "metadata": {},
     "output_type": "execute_result"
    }
   ],
   "source": [
    "len(df), len(df['reaction number'].unique())"
   ]
  },
  {
   "cell_type": "code",
   "execution_count": 16,
   "id": "9fbff875-53d3-4401-992d-561256db7290",
   "metadata": {},
   "outputs": [],
   "source": [
    "df = df.drop_duplicates(subset='reaction number', keep='first')"
   ]
  },
  {
   "cell_type": "code",
   "execution_count": null,
   "id": "5e9402ca-5537-4e99-8e9a-c5013daac28f",
   "metadata": {},
   "outputs": [],
   "source": []
  }
 ],
 "metadata": {
  "kernelspec": {
   "display_name": "Python 3 (ipykernel)",
   "language": "python",
   "name": "python3"
  },
  "language_info": {
   "codemirror_mode": {
    "name": "ipython",
    "version": 3
   },
   "file_extension": ".py",
   "mimetype": "text/x-python",
   "name": "python",
   "nbconvert_exporter": "python",
   "pygments_lexer": "ipython3",
   "version": "3.10.11"
  }
 },
 "nbformat": 4,
 "nbformat_minor": 5
}
